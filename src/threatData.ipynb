{
 "cells": [
  {
   "cell_type": "markdown",
   "id": "f7cce856",
   "metadata": {},
   "source": [
    "# JSSP comparação entre euristicas Classicas: tratamento dos dados "
   ]
  },
  {
   "cell_type": "code",
   "execution_count": 1,
   "id": "6bbd7da5",
   "metadata": {},
   "outputs": [
    {
     "name": "stdout",
     "output_type": "stream",
     "text": [
      "Requirement already satisfied: mealpy in /home/gabriel/Desktop/Quantica/.venv/lib/python3.10/site-packages (from -r ../requirements.txt (line 1)) (3.0.2)\n",
      "Requirement already satisfied: numpy in /home/gabriel/Desktop/Quantica/.venv/lib/python3.10/site-packages (from -r ../requirements.txt (line 2)) (2.2.6)\n",
      "Requirement already satisfied: pandas in /home/gabriel/Desktop/Quantica/.venv/lib/python3.10/site-packages (from -r ../requirements.txt (line 3)) (2.3.0)\n",
      "Requirement already satisfied: matplotlib in /home/gabriel/Desktop/Quantica/.venv/lib/python3.10/site-packages (from -r ../requirements.txt (line 4)) (3.10.3)\n",
      "Requirement already satisfied: scipy in /home/gabriel/Desktop/Quantica/.venv/lib/python3.10/site-packages (from -r ../requirements.txt (line 5)) (1.15.3)\n",
      "Requirement already satisfied: seaborn in /home/gabriel/Desktop/Quantica/.venv/lib/python3.10/site-packages (from -r ../requirements.txt (line 6)) (0.13.2)\n",
      "Requirement already satisfied: opfunu>=1.0.0 in /home/gabriel/Desktop/Quantica/.venv/lib/python3.10/site-packages (from mealpy->-r ../requirements.txt (line 1)) (1.0.4)\n",
      "Requirement already satisfied: python-dateutil>=2.8.2 in /home/gabriel/Desktop/Quantica/.venv/lib/python3.10/site-packages (from pandas->-r ../requirements.txt (line 3)) (2.9.0.post0)\n",
      "Requirement already satisfied: pytz>=2020.1 in /home/gabriel/Desktop/Quantica/.venv/lib/python3.10/site-packages (from pandas->-r ../requirements.txt (line 3)) (2025.2)\n",
      "Requirement already satisfied: tzdata>=2022.7 in /home/gabriel/Desktop/Quantica/.venv/lib/python3.10/site-packages (from pandas->-r ../requirements.txt (line 3)) (2025.2)\n",
      "Requirement already satisfied: contourpy>=1.0.1 in /home/gabriel/Desktop/Quantica/.venv/lib/python3.10/site-packages (from matplotlib->-r ../requirements.txt (line 4)) (1.3.2)\n",
      "Requirement already satisfied: cycler>=0.10 in /home/gabriel/Desktop/Quantica/.venv/lib/python3.10/site-packages (from matplotlib->-r ../requirements.txt (line 4)) (0.12.1)\n",
      "Requirement already satisfied: fonttools>=4.22.0 in /home/gabriel/Desktop/Quantica/.venv/lib/python3.10/site-packages (from matplotlib->-r ../requirements.txt (line 4)) (4.58.4)\n",
      "Requirement already satisfied: kiwisolver>=1.3.1 in /home/gabriel/Desktop/Quantica/.venv/lib/python3.10/site-packages (from matplotlib->-r ../requirements.txt (line 4)) (1.4.8)\n",
      "Requirement already satisfied: packaging>=20.0 in /home/gabriel/Desktop/Quantica/.venv/lib/python3.10/site-packages (from matplotlib->-r ../requirements.txt (line 4)) (25.0)\n",
      "Requirement already satisfied: pillow>=8 in /home/gabriel/Desktop/Quantica/.venv/lib/python3.10/site-packages (from matplotlib->-r ../requirements.txt (line 4)) (11.3.0)\n",
      "Requirement already satisfied: pyparsing>=2.3.1 in /home/gabriel/Desktop/Quantica/.venv/lib/python3.10/site-packages (from matplotlib->-r ../requirements.txt (line 4)) (3.2.3)\n",
      "Requirement already satisfied: requests>=2.27.0 in /home/gabriel/Desktop/Quantica/.venv/lib/python3.10/site-packages (from opfunu>=1.0.0->mealpy->-r ../requirements.txt (line 1)) (2.32.4)\n",
      "Requirement already satisfied: six>=1.5 in /home/gabriel/Desktop/Quantica/.venv/lib/python3.10/site-packages (from python-dateutil>=2.8.2->pandas->-r ../requirements.txt (line 3)) (1.17.0)\n",
      "Requirement already satisfied: charset_normalizer<4,>=2 in /home/gabriel/Desktop/Quantica/.venv/lib/python3.10/site-packages (from requests>=2.27.0->opfunu>=1.0.0->mealpy->-r ../requirements.txt (line 1)) (3.4.2)\n",
      "Requirement already satisfied: idna<4,>=2.5 in /home/gabriel/Desktop/Quantica/.venv/lib/python3.10/site-packages (from requests>=2.27.0->opfunu>=1.0.0->mealpy->-r ../requirements.txt (line 1)) (3.10)\n",
      "Requirement already satisfied: urllib3<3,>=1.21.1 in /home/gabriel/Desktop/Quantica/.venv/lib/python3.10/site-packages (from requests>=2.27.0->opfunu>=1.0.0->mealpy->-r ../requirements.txt (line 1)) (2.5.0)\n",
      "Requirement already satisfied: certifi>=2017.4.17 in /home/gabriel/Desktop/Quantica/.venv/lib/python3.10/site-packages (from requests>=2.27.0->opfunu>=1.0.0->mealpy->-r ../requirements.txt (line 1)) (2025.6.15)\n",
      "Note: you may need to restart the kernel to use updated packages.\n"
     ]
    }
   ],
   "source": [
    "# %pip install pandas\n",
    "# %pip install seaborn\n",
    "%pip install -r ../requirements.txt"
   ]
  },
  {
   "cell_type": "code",
   "execution_count": 2,
   "id": "d852571f",
   "metadata": {},
   "outputs": [],
   "source": [
    "import pandas as pd\n",
    "import numpy as np\n",
    "import math\n",
    "import matplotlib.pyplot as plt\n",
    "import numpy as np\n",
    "import seaborn as sns"
   ]
  },
  {
   "cell_type": "code",
   "execution_count": 3,
   "id": "9e575977",
   "metadata": {},
   "outputs": [
    {
     "name": "stdout",
     "output_type": "stream",
     "text": [
      "\n",
      "Primeiras 5 linhas do CSV:\n",
      "     id  execution_time  fitness                             solution_vector\n",
      "0   509        0.025012      1.0    [0.6966838242420641, 0.5067566407361701]\n",
      "1  1018        0.026170      1.0  [0.9273990581711936, 0.002496059185002286]\n",
      "2  1527        0.064660      1.0  [0.20803180807228905, 0.18125035538485856]\n",
      "3  2036        0.016640      1.0     [0.949709719164603, 0.3951293248385438]\n",
      "4  2545        0.016053      1.0    [0.2580897276104821, 0.9071301602386016]\n",
      "\n",
      "Estatísticas dos tempos de execução:\n",
      "Tempo médio: 0.0189s\n",
      "Tempo mínimo: 0.0149s\n",
      "Tempo máximo: 0.0647s\n",
      "\n",
      "Estatísticas do fitness:\n",
      "Fitness médio: 1.0000\n",
      "Melhor fitness: 1.0000\n",
      "Pior fitness: 1.0000\n"
     ]
    }
   ],
   "source": [
    "\n",
    "csv_filename = \"simulated_annealing_results.csv\"\n",
    "df = pd.read_csv(csv_filename)\n",
    "print(\"\\nPrimeiras 5 linhas do CSV:\")\n",
    "print(df.head())\n",
    "\n",
    "print(f\"\\nEstatísticas dos tempos de execução:\")\n",
    "print(f\"Tempo médio: {df['execution_time'].mean():.4f}s\")\n",
    "print(f\"Tempo mínimo: {df['execution_time'].min():.4f}s\")\n",
    "print(f\"Tempo máximo: {df['execution_time'].max():.4f}s\")\n",
    "\n",
    "print(f\"\\nEstatísticas do fitness:\")\n",
    "print(f\"Fitness médio: {df['fitness'].mean():.4f}\")\n",
    "print(f\"Melhor fitness: {df['fitness'].min():.4f}\")\n",
    "print(f\"Pior fitness: {df['fitness'].max():.4f}\")"
   ]
  }
 ],
 "metadata": {
  "kernelspec": {
   "display_name": ".venv",
   "language": "python",
   "name": "python3"
  },
  "language_info": {
   "codemirror_mode": {
    "name": "ipython",
    "version": 3
   },
   "file_extension": ".py",
   "mimetype": "text/x-python",
   "name": "python",
   "nbconvert_exporter": "python",
   "pygments_lexer": "ipython3",
   "version": "3.10.12"
  }
 },
 "nbformat": 4,
 "nbformat_minor": 5
}
