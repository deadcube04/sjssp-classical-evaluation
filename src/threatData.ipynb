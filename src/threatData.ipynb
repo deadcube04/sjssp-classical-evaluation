{
 "cells": [
  {
   "cell_type": "markdown",
   "id": "f7cce856",
   "metadata": {},
   "source": [
    "# JSSP comparação entre euristicas Classicas: tratamento dos dados "
   ]
  },
  {
   "cell_type": "code",
   "execution_count": 62,
   "id": "6bbd7da5",
   "metadata": {},
   "outputs": [
    {
     "name": "stdout",
     "output_type": "stream",
     "text": [
      "Requirement already satisfied: mealpy in /home/deadcube/sjssp-classical-evaluation/.venv/lib/python3.12/site-packages (from -r ../requirements.txt (line 1)) (3.0.3)\n",
      "Requirement already satisfied: numpy in /home/deadcube/sjssp-classical-evaluation/.venv/lib/python3.12/site-packages (from -r ../requirements.txt (line 2)) (1.26.0)\n",
      "Requirement already satisfied: pandas in /home/deadcube/sjssp-classical-evaluation/.venv/lib/python3.12/site-packages (from -r ../requirements.txt (line 3)) (2.3.1)\n",
      "Requirement already satisfied: matplotlib in /home/deadcube/sjssp-classical-evaluation/.venv/lib/python3.12/site-packages (from -r ../requirements.txt (line 4)) (3.10.5)\n",
      "Requirement already satisfied: scipy in /home/deadcube/sjssp-classical-evaluation/.venv/lib/python3.12/site-packages (from -r ../requirements.txt (line 5)) (1.16.1)\n",
      "Requirement already satisfied: seaborn in /home/deadcube/sjssp-classical-evaluation/.venv/lib/python3.12/site-packages (from -r ../requirements.txt (line 6)) (0.13.2)\n",
      "Requirement already satisfied: ortools in /home/deadcube/sjssp-classical-evaluation/.venv/lib/python3.12/site-packages (from -r ../requirements.txt (line 7)) (9.14.6206)\n",
      "Requirement already satisfied: opfunu>=1.0.0 in /home/deadcube/sjssp-classical-evaluation/.venv/lib/python3.12/site-packages (from mealpy->-r ../requirements.txt (line 1)) (1.0.1)\n",
      "Requirement already satisfied: python-dateutil>=2.8.2 in /home/deadcube/sjssp-classical-evaluation/.venv/lib/python3.12/site-packages (from pandas->-r ../requirements.txt (line 3)) (2.9.0.post0)\n",
      "Requirement already satisfied: pytz>=2020.1 in /home/deadcube/sjssp-classical-evaluation/.venv/lib/python3.12/site-packages (from pandas->-r ../requirements.txt (line 3)) (2025.2)\n",
      "Requirement already satisfied: tzdata>=2022.7 in /home/deadcube/sjssp-classical-evaluation/.venv/lib/python3.12/site-packages (from pandas->-r ../requirements.txt (line 3)) (2025.2)\n",
      "Requirement already satisfied: contourpy>=1.0.1 in /home/deadcube/sjssp-classical-evaluation/.venv/lib/python3.12/site-packages (from matplotlib->-r ../requirements.txt (line 4)) (1.3.3)\n",
      "Requirement already satisfied: cycler>=0.10 in /home/deadcube/sjssp-classical-evaluation/.venv/lib/python3.12/site-packages (from matplotlib->-r ../requirements.txt (line 4)) (0.12.1)\n",
      "Requirement already satisfied: fonttools>=4.22.0 in /home/deadcube/sjssp-classical-evaluation/.venv/lib/python3.12/site-packages (from matplotlib->-r ../requirements.txt (line 4)) (4.59.1)\n",
      "Requirement already satisfied: kiwisolver>=1.3.1 in /home/deadcube/sjssp-classical-evaluation/.venv/lib/python3.12/site-packages (from matplotlib->-r ../requirements.txt (line 4)) (1.4.9)\n",
      "Requirement already satisfied: packaging>=20.0 in /home/deadcube/sjssp-classical-evaluation/.venv/lib/python3.12/site-packages (from matplotlib->-r ../requirements.txt (line 4)) (25.0)\n",
      "Requirement already satisfied: pillow>=8 in /home/deadcube/sjssp-classical-evaluation/.venv/lib/python3.12/site-packages (from matplotlib->-r ../requirements.txt (line 4)) (11.3.0)\n",
      "Requirement already satisfied: pyparsing>=2.3.1 in /home/deadcube/sjssp-classical-evaluation/.venv/lib/python3.12/site-packages (from matplotlib->-r ../requirements.txt (line 4)) (3.2.3)\n",
      "Requirement already satisfied: absl-py>=2.0.0 in /home/deadcube/sjssp-classical-evaluation/.venv/lib/python3.12/site-packages (from ortools->-r ../requirements.txt (line 7)) (2.3.1)\n",
      "Requirement already satisfied: protobuf<6.32,>=6.31.1 in /home/deadcube/sjssp-classical-evaluation/.venv/lib/python3.12/site-packages (from ortools->-r ../requirements.txt (line 7)) (6.31.1)\n",
      "Requirement already satisfied: typing-extensions>=4.12 in /home/deadcube/sjssp-classical-evaluation/.venv/lib/python3.12/site-packages (from ortools->-r ../requirements.txt (line 7)) (4.14.1)\n",
      "Requirement already satisfied: immutabledict>=3.0.0 in /home/deadcube/sjssp-classical-evaluation/.venv/lib/python3.12/site-packages (from ortools->-r ../requirements.txt (line 7)) (4.2.1)\n",
      "Requirement already satisfied: requests>=2.27.0 in /home/deadcube/sjssp-classical-evaluation/.venv/lib/python3.12/site-packages (from opfunu>=1.0.0->mealpy->-r ../requirements.txt (line 1)) (2.32.5)\n",
      "Requirement already satisfied: six>=1.5 in /home/deadcube/sjssp-classical-evaluation/.venv/lib/python3.12/site-packages (from python-dateutil>=2.8.2->pandas->-r ../requirements.txt (line 3)) (1.17.0)\n",
      "Requirement already satisfied: charset_normalizer<4,>=2 in /home/deadcube/sjssp-classical-evaluation/.venv/lib/python3.12/site-packages (from requests>=2.27.0->opfunu>=1.0.0->mealpy->-r ../requirements.txt (line 1)) (3.4.3)\n",
      "Requirement already satisfied: idna<4,>=2.5 in /home/deadcube/sjssp-classical-evaluation/.venv/lib/python3.12/site-packages (from requests>=2.27.0->opfunu>=1.0.0->mealpy->-r ../requirements.txt (line 1)) (3.10)\n",
      "Requirement already satisfied: urllib3<3,>=1.21.1 in /home/deadcube/sjssp-classical-evaluation/.venv/lib/python3.12/site-packages (from requests>=2.27.0->opfunu>=1.0.0->mealpy->-r ../requirements.txt (line 1)) (2.5.0)\n",
      "Requirement already satisfied: certifi>=2017.4.17 in /home/deadcube/sjssp-classical-evaluation/.venv/lib/python3.12/site-packages (from requests>=2.27.0->opfunu>=1.0.0->mealpy->-r ../requirements.txt (line 1)) (2025.8.3)\n",
      "Note: you may need to restart the kernel to use updated packages.\n"
     ]
    }
   ],
   "source": [
    "# %pip install pandas\n",
    "# %pip install seaborn\n",
    "%pip install -r ../requirements.txt"
   ]
  },
  {
   "cell_type": "code",
   "execution_count": 66,
   "id": "d852571f",
   "metadata": {},
   "outputs": [],
   "source": [
    "import pandas as pd\n",
    "import numpy as np\n",
    "import math\n",
    "import matplotlib.pyplot as plt\n",
    "import numpy as np\n",
    "import seaborn as sns\n",
    "from classes.jssp import jssp\n",
    "from classes.job import Jssp_job\n",
    "from classes.operation import Operation\n",
    "import importlib.util\n",
    "import os\n",
    "\n",
    "ARCHIVE = \"best\""
   ]
  },
  {
   "cell_type": "code",
   "execution_count": 73,
   "id": "9e575977",
   "metadata": {},
   "outputs": [
    {
     "name": "stdout",
     "output_type": "stream",
     "text": [
      "Index(['id', 'execution_time', 'fitness', 'timespan', 'solution_vector'], dtype='object')\n"
     ]
    }
   ],
   "source": [
    "def import_tests_cases(nome_dict : str) -> dict:\n",
    "\n",
    "    caminho_absoluto = os.path.abspath(\"../tests/test1.py\")\n",
    "\n",
    "    spec = importlib.util.spec_from_file_location(\"modulo_temp\", caminho_absoluto)\n",
    "    \n",
    "    if spec is None or spec.loader is None:\n",
    "        raise ImportError(f\"Não foi possível carregar o módulo do arquivo: {caminho_absoluto}\")\n",
    "    \n",
    "    modulo = importlib.util.module_from_spec(spec)\n",
    "    spec.loader.exec_module(modulo)\n",
    "\n",
    "    return getattr(modulo, nome_dict)\n",
    "csv_filename = \"simulated_annealing_results.csv\"\n",
    "df = pd.read_csv(csv_filename)\n",
    "print(df.columns)\n",
    "\n",
    "def simulate_schedule(solution_vec, operations):\n",
    "    order = np.argsort(solution_vec)\n",
    "    machine_available = {}\n",
    "    job_available = {}\n",
    "    schedule = []\n",
    "\n",
    "    for idx in order:\n",
    "        op = operations[idx]\n",
    "        job = op[\"job\"]\n",
    "        machine = min(op[\"machines\"], key=lambda m: machine_available.get(m, 0))\n",
    "\n",
    "        start_time = max(machine_available.get(machine, 0), job_available.get(job, 0))\n",
    "        end_time = start_time + op[\"duration\"]\n",
    "\n",
    "        machine_available[machine] = end_time\n",
    "        job_available[job] = end_time\n",
    "\n",
    "        schedule.append({\n",
    "            \"job\": job,\n",
    "            \"machine\": machine,\n",
    "            \"start\": start_time,\n",
    "            \"end\": end_time,\n",
    "            \"duration\": op[\"duration\"],\n",
    "            \"op_index\": idx\n",
    "        })\n",
    "\n",
    "    return schedule\n",
    "\n",
    "def plot_gantt(schedule):\n",
    "    machines = sorted(set(op['machine'] for op in schedule))\n",
    "    machine_to_y = {m: i for i, m in enumerate(machines)}\n",
    "\n",
    "    fig, ax = plt.subplots(figsize=(10, 6))\n",
    "\n",
    "    for op in schedule:\n",
    "        start = op[\"start\"]\n",
    "        duration = op[\"duration\"]\n",
    "        machine = op[\"machine\"]\n",
    "        y = machine_to_y[machine]\n",
    "\n",
    "        ax.barh(y, duration, left=start, height=0.4, align='center', edgecolor='black')\n",
    "\n",
    "        ax.text(start + duration / 2, y, f\"{op['job']}\", \n",
    "                va='center', ha='center', color='white', fontsize=9)\n",
    "\n",
    "    ax.set_yticks(range(len(machines)))\n",
    "    ax.set_yticklabels([f\"Máquina {m}\" for m in machines])\n",
    "    ax.set_xlabel(\"Tempo\")\n",
    "    ax.set_title(\"Gráfico de Gantt - Escalonamento JSSP\")\n",
    "\n",
    "    plt.grid(True, axis='x')\n",
    "    plt.show()\n",
    "\n"
   ]
  },
  {
   "cell_type": "code",
   "execution_count": 74,
   "id": "4d7e1a9a",
   "metadata": {},
   "outputs": [
    {
     "name": "stdout",
     "output_type": "stream",
     "text": [
      "\n",
      "==================================================\n",
      "COMPARAÇÃO TIMESPAN vs FITNESS (em %)\n",
      "==================================================\n",
      "Timespan de referência: 2\n",
      "\n",
      "Análise do MELHOR fitness:\n",
      "Melhor fitness: 2.00\n",
      "0.00% MELHOR que o timespan de referência\n",
      "\n",
      "Análise do FITNESS MÉDIO:\n",
      "Fitness médio: 2.00\n",
      "0.00% MELHOR que o timespan de referência\n",
      "\n",
      "Análise do PIOR fitness:\n",
      "Pior fitness: 2.00\n",
      "0.00% MELHOR que o timespan de referência\n",
      "\n",
      "==================================================\n",
      "ESTATÍSTICAS GERAIS\n",
      "==================================================\n",
      "Execuções que atingiram/superaram o timespan: 30/30 (100.0%)\n",
      "Melhoria média: 0.000%\n",
      "Desvio padrão das melhorias: 0.000%\n"
     ]
    }
   ],
   "source": [
    "# Comparação entre timespan e fitness em porcentagem\n",
    "print(f\"\\n{'='*50}\")\n",
    "print(\"COMPARAÇÃO TIMESPAN vs FITNESS (em %)\")\n",
    "print(f\"{'='*50}\")\n",
    "\n",
    "timespan_ref = df['timespan'].iloc[0]\n",
    "melhor_fitness = df['fitness'].min()\n",
    "fitness_medio = df['fitness'].mean()\n",
    "pior_fitness = df['fitness'].max()\n",
    "\n",
    "print(f\"Timespan de referência: {timespan_ref}\")\n",
    "print(f\"\\nAnálise do MELHOR fitness:\")\n",
    "print(f\"Melhor fitness: {melhor_fitness:.2f}\")\n",
    "if timespan_ref > 0:\n",
    "    diff_melhor = ((melhor_fitness - timespan_ref) / timespan_ref) * 100\n",
    "    if diff_melhor <= 0:\n",
    "        print(f\"{abs(diff_melhor):.2f}% MELHOR que o timespan de referência\")\n",
    "    else:\n",
    "        print(f\"{diff_melhor:.2f}% PIOR que o timespan de referência\")\n",
    "\n",
    "print(f\"\\nAnálise do FITNESS MÉDIO:\")\n",
    "print(f\"Fitness médio: {fitness_medio:.2f}\")\n",
    "if timespan_ref > 0:\n",
    "    diff_medio = ((fitness_medio - timespan_ref) / timespan_ref) * 100\n",
    "    if diff_medio <= 0:\n",
    "        print(f\"{abs(diff_medio):.2f}% MELHOR que o timespan de referência\")\n",
    "    else:\n",
    "        print(f\"{diff_medio:.2f}% PIOR que o timespan de referência\")\n",
    "\n",
    "print(f\"\\nAnálise do PIOR fitness:\")\n",
    "print(f\"Pior fitness: {pior_fitness:.2f}\")\n",
    "if timespan_ref > 0:\n",
    "    diff_pior = ((pior_fitness - timespan_ref) / timespan_ref) * 100\n",
    "    if diff_pior <= 0:\n",
    "        print(f\"{abs(diff_pior):.2f}% MELHOR que o timespan de referência\")\n",
    "    else:\n",
    "        print(f\"{diff_pior:.2f}% PIOR que o timespan de referência\")\n",
    "\n",
    "# Estatísticas adicionais\n",
    "print(f\"\\n{'='*50}\")\n",
    "print(\"ESTATÍSTICAS GERAIS\")\n",
    "print(f\"{'='*50}\")\n",
    "execucoes_melhores = len(df[df['fitness'] <= timespan_ref])\n",
    "total_execucoes = len(df)\n",
    "porcentagem_melhores = (execucoes_melhores / total_execucoes) * 100\n",
    "\n",
    "print(f\"Execuções que atingiram/superaram o timespan: {execucoes_melhores}/{total_execucoes} ({porcentagem_melhores:.1f}%)\")\n",
    "\n",
    "# Distribuição de performance\n",
    "fitness_values = df['fitness'].values\n",
    "melhorias = []\n",
    "for fitness in fitness_values:\n",
    "    if timespan_ref > 0:\n",
    "        melhoria = ((fitness - timespan_ref) / timespan_ref) * 100\n",
    "        melhorias.append(melhoria)\n",
    "\n",
    "melhorias = np.array(melhorias)\n",
    "print(f\"Melhoria média: {melhorias.mean():.3f}%\")\n",
    "print(f\"Desvio padrão das melhorias: {melhorias.std():.3f}%\")"
   ]
  },
  {
   "cell_type": "code",
   "execution_count": 75,
   "id": "25e8f66e",
   "metadata": {},
   "outputs": [
    {
     "name": "stdout",
     "output_type": "stream",
     "text": [
      "id                                                             62102\n",
      "execution_time                                              0.016391\n",
      "fitness                                                          2.0\n",
      "timespan                                                           2\n",
      "solution_vector    [0.7221350327146931, 0.1629745923119159, 0.451...\n",
      "Name: 1, dtype: object\n",
      "Melhor solução encontrada: ['0.7221350327146931', '0.1629745923119159', '0.45102300452614696', '0.29678659338182656']\n"
     ]
    },
    {
     "data": {
      "image/png": "[encoded data removed]",
      "text/plain": [
       "<Figure size 1000x600 with 1 Axes>"
      ]
     },
     "metadata": {},
     "output_type": "display_data"
    }
   ],
   "source": [
    "data = import_tests_cases(ARCHIVE)\n",
    "jssp_instance = jssp(data)\n",
    "\n",
    "\n",
    "\n",
    "best_solution = df[df['fitness'] == df['fitness'].min()].iloc[1]\n",
    "print(best_solution)\n",
    "a = best_solution[\"solution_vector\"]\n",
    "a = a.replace(\" \", \"\")\n",
    "a = a.replace(\"[\", \"\")\n",
    "a = a.replace(\"]\", \"\")\n",
    "a = a.split(\",\")\n",
    "\n",
    "print(f\"Melhor solução encontrada: {(a)}\")\n",
    "schedule = simulate_schedule(a, jssp_instance.get_flattened_operations())\n",
    "plot_gantt(schedule)\n"
   ]
  }
 ],
 "metadata": {
  "kernelspec": {
   "display_name": ".venv",
   "language": "python",
   "name": "python3"
  },
  "language_info": {
   "codemirror_mode": {
    "name": "ipython",
    "version": 3
   },
   "file_extension": ".py",
   "mimetype": "text/x-python",
   "name": "python",
   "nbconvert_exporter": "python",
   "pygments_lexer": "ipython3",
   "version": "3.12.3"
  }
 },
 "nbformat": 4,
 "nbformat_minor": 5
}
