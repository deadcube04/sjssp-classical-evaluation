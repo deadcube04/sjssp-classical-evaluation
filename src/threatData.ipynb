{
 "cells": [
  {
   "cell_type": "markdown",
   "id": "f7cce856",
   "metadata": {},
   "source": [
    "# JSSP comparação entre euristicas Classicas: tratamento dos dados "
   ]
  },
  {
   "cell_type": "code",
   "execution_count": 1,
   "id": "6bbd7da5",
   "metadata": {},
   "outputs": [
    {
     "name": "stdout",
     "output_type": "stream",
     "text": [
      "Requirement already satisfied: mealpy in /home/gabriel/Desktop/Quantica/.venv/lib/python3.10/site-packages (from -r ../requirements.txt (line 1)) (3.0.2)\n",
      "Requirement already satisfied: numpy in /home/gabriel/Desktop/Quantica/.venv/lib/python3.10/site-packages (from -r ../requirements.txt (line 2)) (2.2.6)\n",
      "Requirement already satisfied: pandas in /home/gabriel/Desktop/Quantica/.venv/lib/python3.10/site-packages (from -r ../requirements.txt (line 3)) (2.3.0)\n",
      "Requirement already satisfied: matplotlib in /home/gabriel/Desktop/Quantica/.venv/lib/python3.10/site-packages (from -r ../requirements.txt (line 4)) (3.10.3)\n",
      "Requirement already satisfied: scipy in /home/gabriel/Desktop/Quantica/.venv/lib/python3.10/site-packages (from -r ../requirements.txt (line 5)) (1.15.3)\n",
      "Requirement already satisfied: seaborn in /home/gabriel/Desktop/Quantica/.venv/lib/python3.10/site-packages (from -r ../requirements.txt (line 6)) (0.13.2)\n",
      "Requirement already satisfied: ortools in /home/gabriel/Desktop/Quantica/.venv/lib/python3.10/site-packages (from -r ../requirements.txt (line 7)) (9.14.6206)\n",
      "Requirement already satisfied: opfunu>=1.0.0 in /home/gabriel/Desktop/Quantica/.venv/lib/python3.10/site-packages (from mealpy->-r ../requirements.txt (line 1)) (1.0.4)\n",
      "Requirement already satisfied: python-dateutil>=2.8.2 in /home/gabriel/Desktop/Quantica/.venv/lib/python3.10/site-packages (from pandas->-r ../requirements.txt (line 3)) (2.9.0.post0)\n",
      "Requirement already satisfied: pytz>=2020.1 in /home/gabriel/Desktop/Quantica/.venv/lib/python3.10/site-packages (from pandas->-r ../requirements.txt (line 3)) (2025.2)\n",
      "Requirement already satisfied: tzdata>=2022.7 in /home/gabriel/Desktop/Quantica/.venv/lib/python3.10/site-packages (from pandas->-r ../requirements.txt (line 3)) (2025.2)\n",
      "Requirement already satisfied: contourpy>=1.0.1 in /home/gabriel/Desktop/Quantica/.venv/lib/python3.10/site-packages (from matplotlib->-r ../requirements.txt (line 4)) (1.3.2)\n",
      "Requirement already satisfied: cycler>=0.10 in /home/gabriel/Desktop/Quantica/.venv/lib/python3.10/site-packages (from matplotlib->-r ../requirements.txt (line 4)) (0.12.1)\n",
      "Requirement already satisfied: fonttools>=4.22.0 in /home/gabriel/Desktop/Quantica/.venv/lib/python3.10/site-packages (from matplotlib->-r ../requirements.txt (line 4)) (4.58.4)\n",
      "Requirement already satisfied: kiwisolver>=1.3.1 in /home/gabriel/Desktop/Quantica/.venv/lib/python3.10/site-packages (from matplotlib->-r ../requirements.txt (line 4)) (1.4.8)\n",
      "Requirement already satisfied: packaging>=20.0 in /home/gabriel/Desktop/Quantica/.venv/lib/python3.10/site-packages (from matplotlib->-r ../requirements.txt (line 4)) (25.0)\n",
      "Requirement already satisfied: pillow>=8 in /home/gabriel/Desktop/Quantica/.venv/lib/python3.10/site-packages (from matplotlib->-r ../requirements.txt (line 4)) (11.3.0)\n",
      "Requirement already satisfied: pyparsing>=2.3.1 in /home/gabriel/Desktop/Quantica/.venv/lib/python3.10/site-packages (from matplotlib->-r ../requirements.txt (line 4)) (3.2.3)\n",
      "Requirement already satisfied: absl-py>=2.0.0 in /home/gabriel/Desktop/Quantica/.venv/lib/python3.10/site-packages (from ortools->-r ../requirements.txt (line 7)) (2.3.1)\n",
      "Requirement already satisfied: protobuf<6.32,>=6.31.1 in /home/gabriel/Desktop/Quantica/.venv/lib/python3.10/site-packages (from ortools->-r ../requirements.txt (line 7)) (6.31.1)\n",
      "Requirement already satisfied: typing-extensions>=4.12 in /home/gabriel/Desktop/Quantica/.venv/lib/python3.10/site-packages (from ortools->-r ../requirements.txt (line 7)) (4.14.0)\n",
      "Requirement already satisfied: immutabledict>=3.0.0 in /home/gabriel/Desktop/Quantica/.venv/lib/python3.10/site-packages (from ortools->-r ../requirements.txt (line 7)) (4.2.1)\n",
      "Requirement already satisfied: requests>=2.27.0 in /home/gabriel/Desktop/Quantica/.venv/lib/python3.10/site-packages (from opfunu>=1.0.0->mealpy->-r ../requirements.txt (line 1)) (2.32.4)\n",
      "Requirement already satisfied: six>=1.5 in /home/gabriel/Desktop/Quantica/.venv/lib/python3.10/site-packages (from python-dateutil>=2.8.2->pandas->-r ../requirements.txt (line 3)) (1.17.0)\n",
      "Requirement already satisfied: charset_normalizer<4,>=2 in /home/gabriel/Desktop/Quantica/.venv/lib/python3.10/site-packages (from requests>=2.27.0->opfunu>=1.0.0->mealpy->-r ../requirements.txt (line 1)) (3.4.2)\n",
      "Requirement already satisfied: idna<4,>=2.5 in /home/gabriel/Desktop/Quantica/.venv/lib/python3.10/site-packages (from requests>=2.27.0->opfunu>=1.0.0->mealpy->-r ../requirements.txt (line 1)) (3.10)\n",
      "Requirement already satisfied: urllib3<3,>=1.21.1 in /home/gabriel/Desktop/Quantica/.venv/lib/python3.10/site-packages (from requests>=2.27.0->opfunu>=1.0.0->mealpy->-r ../requirements.txt (line 1)) (2.5.0)\n",
      "Requirement already satisfied: certifi>=2017.4.17 in /home/gabriel/Desktop/Quantica/.venv/lib/python3.10/site-packages (from requests>=2.27.0->opfunu>=1.0.0->mealpy->-r ../requirements.txt (line 1)) (2025.6.15)\n",
      "Note: you may need to restart the kernel to use updated packages.\n"
     ]
    }
   ],
   "source": [
    "# %pip install pandas\n",
    "# %pip install seaborn\n",
    "%pip install -r ../requirements.txt"
   ]
  },
  {
   "cell_type": "code",
   "execution_count": 1,
   "id": "d852571f",
   "metadata": {},
   "outputs": [],
   "source": [
    "import pandas as pd\n",
    "import numpy as np\n",
    "import math\n",
    "import matplotlib.pyplot as plt\n",
    "import numpy as np\n",
    "import seaborn as sns"
   ]
  },
  {
   "cell_type": "code",
   "execution_count": 2,
   "id": "9e575977",
   "metadata": {},
   "outputs": [
    {
     "name": "stdout",
     "output_type": "stream",
     "text": [
      "\n",
      "Primeiras 5 linhas do CSV:\n",
      "      id  execution_time  fitness  timespan  \\\n",
      "0  31051        0.035430     10.0        10   \n",
      "1  31560        0.020396     10.0        10   \n",
      "2  32069        0.020412     12.0        10   \n",
      "3  32578        0.024642     10.0        10   \n",
      "4  33087        0.020130     10.0        10   \n",
      "\n",
      "                                     solution_vector  \n",
      "0  [0.9313195109362449, 0.4209948451911698, 0.174...  \n",
      "1  [0.7036567355405177, 0.47923610408502354, 0.97...  \n",
      "2  [0.9509624495989102, 0.348423714104547, 0.1668...  \n",
      "3  [1.5416470804808031, 0.7734923817344871, -0.07...  \n",
      "4  [0.6367580087751841, 0.9291901286296886, 0.878...  \n",
      "\n",
      "Estatísticas dos tempos de execução:\n",
      "Tempo médio: 0.0220s\n",
      "Tempo mínimo: 0.0174s\n",
      "Tempo máximo: 0.0354s\n",
      "\n",
      "Estatísticas do fitness:\n",
      "Fitness médio: 10.5000\n",
      "Melhor fitness: 10.0000\n",
      "Pior fitness: 12.0000\n"
     ]
    }
   ],
   "source": [
    "\n",
    "csv_filename = \"simulated_annealing_results.csv\"\n",
    "df = pd.read_csv(csv_filename)\n",
    "print(\"\\nPrimeiras 5 linhas do CSV:\")\n",
    "print(df.head())\n",
    "\n",
    "print(f\"\\nEstatísticas dos tempos de execução:\")\n",
    "print(f\"Tempo médio: {df['execution_time'].mean():.4f}s\")\n",
    "print(f\"Tempo mínimo: {df['execution_time'].min():.4f}s\")\n",
    "print(f\"Tempo máximo: {df['execution_time'].max():.4f}s\")\n",
    "\n",
    "print(f\"\\nEstatísticas do fitness:\")\n",
    "print(f\"Fitness médio: {df['fitness'].mean():.4f}\")\n",
    "print(f\"Melhor fitness: {df['fitness'].min():.4f}\")\n",
    "print(f\"Pior fitness: {df['fitness'].max():.4f}\")"
   ]
  },
  {
   "cell_type": "code",
   "execution_count": 3,
   "id": "4d7e1a9a",
   "metadata": {},
   "outputs": [
    {
     "name": "stdout",
     "output_type": "stream",
     "text": [
      "\n",
      "==================================================\n",
      "COMPARAÇÃO TIMESPAN vs FITNESS (em %)\n",
      "==================================================\n",
      "Timespan de referência: 10\n",
      "\n",
      "Análise do MELHOR fitness:\n",
      "Melhor fitness: 10.00\n",
      "0.00% MELHOR que o timespan de referência\n",
      "\n",
      "Análise do FITNESS MÉDIO:\n",
      "Fitness médio: 10.50\n",
      "5.00% PIOR que o timespan de referência\n",
      "\n",
      "Análise do PIOR fitness:\n",
      "Pior fitness: 12.00\n",
      "20.00% PIOR que o timespan de referência\n",
      "\n",
      "==================================================\n",
      "ESTATÍSTICAS GERAIS\n",
      "==================================================\n",
      "Execuções que atingiram/superaram o timespan: 18/30 (60.0%)\n",
      "Melhoria média: 5.000%\n",
      "Desvio padrão das melhorias: 6.708%\n"
     ]
    }
   ],
   "source": [
    "# Comparação entre timespan e fitness em porcentagem\n",
    "print(f\"\\n{'='*50}\")\n",
    "print(\"COMPARAÇÃO TIMESPAN vs FITNESS (em %)\")\n",
    "print(f\"{'='*50}\")\n",
    "\n",
    "timespan_ref = df['timespan'].iloc[0]\n",
    "melhor_fitness = df['fitness'].min()\n",
    "fitness_medio = df['fitness'].mean()\n",
    "pior_fitness = df['fitness'].max()\n",
    "\n",
    "print(f\"Timespan de referência: {timespan_ref}\")\n",
    "print(f\"\\nAnálise do MELHOR fitness:\")\n",
    "print(f\"Melhor fitness: {melhor_fitness:.2f}\")\n",
    "if timespan_ref > 0:\n",
    "    diff_melhor = ((melhor_fitness - timespan_ref) / timespan_ref) * 100\n",
    "    if diff_melhor <= 0:\n",
    "        print(f\"{abs(diff_melhor):.2f}% MELHOR que o timespan de referência\")\n",
    "    else:\n",
    "        print(f\"{diff_melhor:.2f}% PIOR que o timespan de referência\")\n",
    "\n",
    "print(f\"\\nAnálise do FITNESS MÉDIO:\")\n",
    "print(f\"Fitness médio: {fitness_medio:.2f}\")\n",
    "if timespan_ref > 0:\n",
    "    diff_medio = ((fitness_medio - timespan_ref) / timespan_ref) * 100\n",
    "    if diff_medio <= 0:\n",
    "        print(f\"{abs(diff_medio):.2f}% MELHOR que o timespan de referência\")\n",
    "    else:\n",
    "        print(f\"{diff_medio:.2f}% PIOR que o timespan de referência\")\n",
    "\n",
    "print(f\"\\nAnálise do PIOR fitness:\")\n",
    "print(f\"Pior fitness: {pior_fitness:.2f}\")\n",
    "if timespan_ref > 0:\n",
    "    diff_pior = ((pior_fitness - timespan_ref) / timespan_ref) * 100\n",
    "    if diff_pior <= 0:\n",
    "        print(f\"{abs(diff_pior):.2f}% MELHOR que o timespan de referência\")\n",
    "    else:\n",
    "        print(f\"{diff_pior:.2f}% PIOR que o timespan de referência\")\n",
    "\n",
    "# Estatísticas adicionais\n",
    "print(f\"\\n{'='*50}\")\n",
    "print(\"ESTATÍSTICAS GERAIS\")\n",
    "print(f\"{'='*50}\")\n",
    "execucoes_melhores = len(df[df['fitness'] <= timespan_ref])\n",
    "total_execucoes = len(df)\n",
    "porcentagem_melhores = (execucoes_melhores / total_execucoes) * 100\n",
    "\n",
    "print(f\"Execuções que atingiram/superaram o timespan: {execucoes_melhores}/{total_execucoes} ({porcentagem_melhores:.1f}%)\")\n",
    "\n",
    "# Distribuição de performance\n",
    "fitness_values = df['fitness'].values\n",
    "melhorias = []\n",
    "for fitness in fitness_values:\n",
    "    if timespan_ref > 0:\n",
    "        melhoria = ((fitness - timespan_ref) / timespan_ref) * 100\n",
    "        melhorias.append(melhoria)\n",
    "\n",
    "melhorias = np.array(melhorias)\n",
    "print(f\"Melhoria média: {melhorias.mean():.3f}%\")\n",
    "print(f\"Desvio padrão das melhorias: {melhorias.std():.3f}%\")"
   ]
  }
 ],
 "metadata": {
  "kernelspec": {
   "display_name": ".venv",
   "language": "python",
   "name": "python3"
  },
  "language_info": {
   "codemirror_mode": {
    "name": "ipython",
    "version": 3
   },
   "file_extension": ".py",
   "mimetype": "text/x-python",
   "name": "python",
   "nbconvert_exporter": "python",
   "pygments_lexer": "ipython3",
   "version": "3.10.12"
  }
 },
 "nbformat": 4,
 "nbformat_minor": 5
}
