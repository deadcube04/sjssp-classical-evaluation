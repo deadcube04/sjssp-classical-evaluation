{
 "cells": [
  {
   "cell_type": "markdown",
   "id": "f7cce856",
   "metadata": {},
   "source": [
    "# JSSP comparação entre euristicas Classicas: tratamento dos dados "
   ]
  },
  {
   "cell_type": "code",
   "execution_count": 5,
   "id": "6bbd7da5",
   "metadata": {},
   "outputs": [
    {
     "name": "stdout",
     "output_type": "stream",
     "text": [
      "Requirement already satisfied: mealpy in /home/gabriel/Desktop/Quantica/.venv/lib/python3.10/site-packages (from -r ../requirements.txt (line 1)) (3.0.2)\n",
      "Requirement already satisfied: numpy in /home/gabriel/Desktop/Quantica/.venv/lib/python3.10/site-packages (from -r ../requirements.txt (line 2)) (2.2.6)\n",
      "Requirement already satisfied: pandas in /home/gabriel/Desktop/Quantica/.venv/lib/python3.10/site-packages (from -r ../requirements.txt (line 3)) (2.3.0)\n",
      "Requirement already satisfied: matplotlib in /home/gabriel/Desktop/Quantica/.venv/lib/python3.10/site-packages (from -r ../requirements.txt (line 4)) (3.10.3)\n",
      "Requirement already satisfied: scipy in /home/gabriel/Desktop/Quantica/.venv/lib/python3.10/site-packages (from -r ../requirements.txt (line 5)) (1.15.3)\n",
      "Requirement already satisfied: seaborn in /home/gabriel/Desktop/Quantica/.venv/lib/python3.10/site-packages (from -r ../requirements.txt (line 6)) (0.13.2)\n",
      "Collecting ortools (from -r ../requirements.txt (line 7))\n",
      "  Downloading ortools-9.14.6206-cp310-cp310-manylinux_2_27_x86_64.manylinux_2_28_x86_64.whl.metadata (3.3 kB)\n",
      "Requirement already satisfied: opfunu>=1.0.0 in /home/gabriel/Desktop/Quantica/.venv/lib/python3.10/site-packages (from mealpy->-r ../requirements.txt (line 1)) (1.0.4)\n",
      "Requirement already satisfied: python-dateutil>=2.8.2 in /home/gabriel/Desktop/Quantica/.venv/lib/python3.10/site-packages (from pandas->-r ../requirements.txt (line 3)) (2.9.0.post0)\n",
      "Requirement already satisfied: pytz>=2020.1 in /home/gabriel/Desktop/Quantica/.venv/lib/python3.10/site-packages (from pandas->-r ../requirements.txt (line 3)) (2025.2)\n",
      "Requirement already satisfied: tzdata>=2022.7 in /home/gabriel/Desktop/Quantica/.venv/lib/python3.10/site-packages (from pandas->-r ../requirements.txt (line 3)) (2025.2)\n",
      "Requirement already satisfied: contourpy>=1.0.1 in /home/gabriel/Desktop/Quantica/.venv/lib/python3.10/site-packages (from matplotlib->-r ../requirements.txt (line 4)) (1.3.2)\n",
      "Requirement already satisfied: cycler>=0.10 in /home/gabriel/Desktop/Quantica/.venv/lib/python3.10/site-packages (from matplotlib->-r ../requirements.txt (line 4)) (0.12.1)\n",
      "Requirement already satisfied: fonttools>=4.22.0 in /home/gabriel/Desktop/Quantica/.venv/lib/python3.10/site-packages (from matplotlib->-r ../requirements.txt (line 4)) (4.58.4)\n",
      "Requirement already satisfied: kiwisolver>=1.3.1 in /home/gabriel/Desktop/Quantica/.venv/lib/python3.10/site-packages (from matplotlib->-r ../requirements.txt (line 4)) (1.4.8)\n",
      "Requirement already satisfied: packaging>=20.0 in /home/gabriel/Desktop/Quantica/.venv/lib/python3.10/site-packages (from matplotlib->-r ../requirements.txt (line 4)) (25.0)\n",
      "Requirement already satisfied: pillow>=8 in /home/gabriel/Desktop/Quantica/.venv/lib/python3.10/site-packages (from matplotlib->-r ../requirements.txt (line 4)) (11.3.0)\n",
      "Requirement already satisfied: pyparsing>=2.3.1 in /home/gabriel/Desktop/Quantica/.venv/lib/python3.10/site-packages (from matplotlib->-r ../requirements.txt (line 4)) (3.2.3)\n",
      "Collecting absl-py>=2.0.0 (from ortools->-r ../requirements.txt (line 7))\n",
      "  Downloading absl_py-2.3.1-py3-none-any.whl.metadata (3.3 kB)\n",
      "Collecting protobuf<6.32,>=6.31.1 (from ortools->-r ../requirements.txt (line 7))\n",
      "  Downloading protobuf-6.31.1-cp39-abi3-manylinux2014_x86_64.whl.metadata (593 bytes)\n",
      "Requirement already satisfied: typing-extensions>=4.12 in /home/gabriel/Desktop/Quantica/.venv/lib/python3.10/site-packages (from ortools->-r ../requirements.txt (line 7)) (4.14.0)\n",
      "Collecting immutabledict>=3.0.0 (from ortools->-r ../requirements.txt (line 7))\n",
      "  Downloading immutabledict-4.2.1-py3-none-any.whl.metadata (3.5 kB)\n",
      "Requirement already satisfied: requests>=2.27.0 in /home/gabriel/Desktop/Quantica/.venv/lib/python3.10/site-packages (from opfunu>=1.0.0->mealpy->-r ../requirements.txt (line 1)) (2.32.4)\n",
      "Requirement already satisfied: six>=1.5 in /home/gabriel/Desktop/Quantica/.venv/lib/python3.10/site-packages (from python-dateutil>=2.8.2->pandas->-r ../requirements.txt (line 3)) (1.17.0)\n",
      "Requirement already satisfied: charset_normalizer<4,>=2 in /home/gabriel/Desktop/Quantica/.venv/lib/python3.10/site-packages (from requests>=2.27.0->opfunu>=1.0.0->mealpy->-r ../requirements.txt (line 1)) (3.4.2)\n",
      "Requirement already satisfied: idna<4,>=2.5 in /home/gabriel/Desktop/Quantica/.venv/lib/python3.10/site-packages (from requests>=2.27.0->opfunu>=1.0.0->mealpy->-r ../requirements.txt (line 1)) (3.10)\n",
      "Requirement already satisfied: urllib3<3,>=1.21.1 in /home/gabriel/Desktop/Quantica/.venv/lib/python3.10/site-packages (from requests>=2.27.0->opfunu>=1.0.0->mealpy->-r ../requirements.txt (line 1)) (2.5.0)\n",
      "Requirement already satisfied: certifi>=2017.4.17 in /home/gabriel/Desktop/Quantica/.venv/lib/python3.10/site-packages (from requests>=2.27.0->opfunu>=1.0.0->mealpy->-r ../requirements.txt (line 1)) (2025.6.15)\n",
      "Downloading ortools-9.14.6206-cp310-cp310-manylinux_2_27_x86_64.manylinux_2_28_x86_64.whl (27.6 MB)\n",
      "\u001b[2K   \u001b[38;2;114;156;31m━━━━━━━━━━━━━━━━━━━━━━━━━━━━━━━━━━━━━━━━\u001b[0m \u001b[32m27.6/27.6 MB\u001b[0m \u001b[31m11.6 MB/s\u001b[0m eta \u001b[36m0:00:00\u001b[0m MB/s\u001b[0m eta \u001b[36m0:00:01\u001b[0m:02\u001b[0m\n",
      "\u001b[?25hDownloading protobuf-6.31.1-cp39-abi3-manylinux2014_x86_64.whl (321 kB)\n",
      "Downloading absl_py-2.3.1-py3-none-any.whl (135 kB)\n",
      "Downloading immutabledict-4.2.1-py3-none-any.whl (4.7 kB)\n",
      "Installing collected packages: protobuf, immutabledict, absl-py, ortools\n",
      "\u001b[2K   \u001b[38;2;114;156;31m━━━━━━━━━━━━━━━━━━━━━━━━━━━━━━━━━━━━━━━━\u001b[0m \u001b[32m4/4\u001b[0m [ortools]━━━\u001b[0m \u001b[32m3/4\u001b[0m [ortools]\n",
      "\u001b[1A\u001b[2KSuccessfully installed absl-py-2.3.1 immutabledict-4.2.1 ortools-9.14.6206 protobuf-6.31.1\n",
      "Note: you may need to restart the kernel to use updated packages.\n"
     ]
    }
   ],
   "source": [
    "# %pip install pandas\n",
    "# %pip install seaborn\n",
    "%pip install -r ../requirements.txt"
   ]
  },
  {
   "cell_type": "code",
   "execution_count": 2,
   "id": "d852571f",
   "metadata": {},
   "outputs": [],
   "source": [
    "import pandas as pd\n",
    "import numpy as np\n",
    "import math\n",
    "import matplotlib.pyplot as plt\n",
    "import numpy as np\n",
    "import seaborn as sns"
   ]
  },
  {
   "cell_type": "code",
   "execution_count": 4,
   "id": "9e575977",
   "metadata": {},
   "outputs": [
    {
     "name": "stdout",
     "output_type": "stream",
     "text": [
      "\n",
      "Primeiras 5 linhas do CSV:\n",
      "      id  execution_time  fitness  \\\n",
      "0  15780        0.023511     10.0   \n",
      "1  16289        0.023689     11.0   \n",
      "2  16798        0.017370     11.0   \n",
      "3  17307        0.017879     10.0   \n",
      "4  17816        0.017860     10.0   \n",
      "\n",
      "                                     solution_vector  \n",
      "0  [0.8694768123943948, 0.21399559397541457, 0.31...  \n",
      "1  [0.002084693912435154, 0.6919373008888614, 0.5...  \n",
      "2  [0.00233236802752379, 0.8216689597439779, 0.97...  \n",
      "3  [-0.21863423712469304, 0.9084528719029524, 0.9...  \n",
      "4  [0.7153694250480912, 2.7456131935229364, 0.696...  \n",
      "\n",
      "Estatísticas dos tempos de execução:\n",
      "Tempo médio: 0.0182s\n",
      "Tempo mínimo: 0.0164s\n",
      "Tempo máximo: 0.0237s\n",
      "\n",
      "Estatísticas do fitness:\n",
      "Fitness médio: 10.3333\n",
      "Melhor fitness: 10.0000\n",
      "Pior fitness: 12.0000\n"
     ]
    }
   ],
   "source": [
    "\n",
    "csv_filename = \"simulated_annealing_results.csv\"\n",
    "df = pd.read_csv(csv_filename)\n",
    "print(\"\\nPrimeiras 5 linhas do CSV:\")\n",
    "print(df.head())\n",
    "\n",
    "print(f\"\\nEstatísticas dos tempos de execução:\")\n",
    "print(f\"Tempo médio: {df['execution_time'].mean():.4f}s\")\n",
    "print(f\"Tempo mínimo: {df['execution_time'].min():.4f}s\")\n",
    "print(f\"Tempo máximo: {df['execution_time'].max():.4f}s\")\n",
    "\n",
    "print(f\"\\nEstatísticas do fitness:\")\n",
    "print(f\"Fitness médio: {df['fitness'].mean():.4f}\")\n",
    "print(f\"Melhor fitness: {df['fitness'].min():.4f}\")\n",
    "print(f\"Pior fitness: {df['fitness'].max():.4f}\")"
   ]
  }
 ],
 "metadata": {
  "kernelspec": {
   "display_name": ".venv",
   "language": "python",
   "name": "python3"
  },
  "language_info": {
   "codemirror_mode": {
    "name": "ipython",
    "version": 3
   },
   "file_extension": ".py",
   "mimetype": "text/x-python",
   "name": "python",
   "nbconvert_exporter": "python",
   "pygments_lexer": "ipython3",
   "version": "3.10.12"
  }
 },
 "nbformat": 4,
 "nbformat_minor": 5
}
