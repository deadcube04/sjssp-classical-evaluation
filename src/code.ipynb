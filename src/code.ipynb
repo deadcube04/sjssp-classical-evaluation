{
 "cells": [
  {
   "cell_type": "markdown",
   "id": "8b067714",
   "metadata": {},
   "source": [
    "# JSSP comparação entre euristicas Classicas: codigo fonte"
   ]
  },
  {
   "cell_type": "markdown",
   "id": "0a1d9995",
   "metadata": {},
   "source": [
    "## importação de libs"
   ]
  },
  {
   "cell_type": "code",
   "execution_count": null,
   "id": "4d11e87d",
   "metadata": {},
   "outputs": [],
   "source": [
    "# %pip install mealpy\n",
    "# %pip install numpy\n",
    "%pip install -r ../requirements.txt\n"
   ]
  },
  {
   "cell_type": "code",
   "execution_count": 1,
   "id": "3e7daaf2",
   "metadata": {},
   "outputs": [],
   "source": [
    "import os\n",
    "import importlib.util\n",
    "from classes.jssp import jssp\n",
    "import numpy as np\n",
    "from classes.jssp import jssp\n",
    "from mealpy import SA\n",
    "from mealpy.utils.space import FloatVar\n",
    "import matplotlib.pyplot as plt\n",
    "import time"
   ]
  },
  {
   "cell_type": "markdown",
   "id": "1e54c8b5",
   "metadata": {},
   "source": [
    "## funções adicionais"
   ]
  },
  {
   "cell_type": "code",
   "execution_count": 2,
   "id": "f6025f02",
   "metadata": {},
   "outputs": [],
   "source": [
    "# importar casos de teste\n",
    "def import_tests_cases(nome_dict : str) -> dict:\n",
    "\n",
    "    caminho_absoluto = os.path.abspath(\"../tests/test1.py\")\n",
    "\n",
    "    spec = importlib.util.spec_from_file_location(\"modulo_temp\", caminho_absoluto)\n",
    "    \n",
    "    if spec is None or spec.loader is None:\n",
    "        raise ImportError(f\"Não foi possível carregar o módulo do arquivo: {caminho_absoluto}\")\n",
    "    \n",
    "    modulo = importlib.util.module_from_spec(spec)\n",
    "    spec.loader.exec_module(modulo)\n",
    "\n",
    "    return getattr(modulo, nome_dict)\n",
    "\n",
    "def decode_solution(solution_vec, operations):\n",
    "    import numpy as np\n",
    "    order = np.argsort(solution_vec)\n",
    "\n",
    "    machine_available = {}\n",
    "    job_available = {}\n",
    "\n",
    "    print(\"Ordem com máquina usada:\")\n",
    "\n",
    "    for i, idx in enumerate(order):\n",
    "        op = operations[idx]\n",
    "        job = op[\"job\"]\n",
    "\n",
    "        # Se quiser a regra de escolha original, substitua esta linha:\n",
    "        # machine = op[\"machines\"][0]\n",
    "\n",
    "        # Exemplo: escolher a máquina que fica disponível primeiro\n",
    "        machine = min(op[\"machines\"], key=lambda m: machine_available.get(m, 0)) # verificar com pamela\n",
    "\n",
    "        start_time = max(machine_available.get(machine, 0), job_available.get(job, 0))\n",
    "        end_time = start_time + op[\"duration\"]\n",
    "\n",
    "        machine_available[machine] = end_time\n",
    "        job_available[job] = end_time\n",
    "\n",
    "        print(f\"{i+1}: {op['job']}, Máquina {machine}, Duração {op['duration']}, Início {start_time}, Fim {end_time}\")\n",
    "\n",
    "def make_fitness_function(instance: jssp):\n",
    "\n",
    "    # Gera uma lista de dicionários com informações sobre cada operação\n",
    "    # Isso é feito uma única vez fora da função fitness por eficiência\n",
    "    operations = instance.get_flattened_operations()\n",
    "\n",
    "    # Esta é a função que o mealpy usará para avaliar cada solução\n",
    "    def fitness(solution):\n",
    "        import numpy as np\n",
    "\n",
    "        # Ordena os índices das operações com base nos valores do vetor de entrada\n",
    "        # Isso define a ordem de execução das operações\n",
    "        priority_order = np.argsort(solution)\n",
    "\n",
    "        # Dicionários para acompanhar quando cada máquina e cada job estarão disponíveis\n",
    "        machine_available = {}  # ex: {1: 5} → máquina 1 estará livre no tempo 5\n",
    "        job_available = {}      # ex: {\"job_1\": 4} → job_1 pode iniciar próxima operação no tempo 4\n",
    "        end_times = []          # armazenará o tempo de término de cada operação\n",
    "\n",
    "        # Executa as operações na ordem definida pelo vetor de prioridade\n",
    "        for idx in priority_order:\n",
    "            op = operations[idx]  # Recupera a operação pelo índice\n",
    "\n",
    "            job = op[\"job\"]               # Nome do job (ex: \"job_1\")\n",
    "            machine = min(op[\"machines\"], key=lambda m: machine_available.get(m, 0)) # Seleciona a máquina disponível mais cedo\n",
    "            duration = op[\"duration\"]     # Duração da operação\n",
    "\n",
    "            # O início da operação depende da disponibilidade da máquina e do job\n",
    "            start_time = max(\n",
    "                machine_available.get(machine, 0),  # se máquina não usada ainda, começa em 0\n",
    "                job_available.get(job, 0)           # se job ainda não iniciou, começa em 0\n",
    "            )\n",
    "\n",
    "            end_time = start_time + duration  # Tempo em que a operação termina\n",
    "\n",
    "            # Atualiza os dicionários com a nova disponibilidade após a operação\n",
    "            machine_available[machine] = end_time\n",
    "            job_available[job] = end_time\n",
    "\n",
    "            end_times.append(end_time)  # Salva o tempo final da operação\n",
    "\n",
    "        # O makespan é o tempo máximo de término entre todas as operações\n",
    "        return max(end_times),  # Retorna como tupla, como o mealpy exige\n",
    "\n",
    "    # Retorna a função de fitness já configurada com os dados da instância\n",
    "    return fitness\n",
    "\n",
    "\n"
   ]
  },
  {
   "cell_type": "markdown",
   "id": "77101e58",
   "metadata": {},
   "source": [
    "## Configurações gerais"
   ]
  },
  {
   "cell_type": "code",
   "execution_count": 26,
   "id": "577ff04b",
   "metadata": {},
   "outputs": [],
   "source": [
    "# dados para os testes iniciais\n",
    "data = import_tests_cases(\"best\")\n",
    "instance = jssp(data)\n",
    "fitness_func = make_fitness_function(instance)\n",
    "num_ops = len(instance.get_flattened_operations())\n",
    "\n",
    "# Definindo o problema\n",
    "problem = {\n",
    "    \"obj_func\": fitness_func,\n",
    "    \"bounds\": [FloatVar(lb=0.0, ub=1.0) for _ in range(num_ops)],\n",
    "    \"minmax\": \"min\",\n",
    "    \"log_to\": None,\n",
    "}\n"
   ]
  },
  {
   "cell_type": "markdown",
   "id": "566cbbc4",
   "metadata": {},
   "source": [
    "## Simulated annealing"
   ]
  },
  {
   "cell_type": "code",
   "execution_count": 29,
   "id": "1fb06741",
   "metadata": {},
   "outputs": [],
   "source": [
    "times = []\n",
    "solutions = []\n",
    "model = SA.OriginalSA(epoch=100)\n",
    "for _ in range(30):\n",
    "    start_time = time.time()\n",
    "    g_best = model.solve(problem)\n",
    "    end_time = time.time()\n",
    "    times.append([end_time - start_time, g_best.id])\n",
    "    solutions.append(g_best)\n",
    "\n",
    "\n"
   ]
  },
  {
   "cell_type": "code",
   "execution_count": 28,
   "id": "c017c61d",
   "metadata": {},
   "outputs": [
    {
     "name": "stdout",
     "output_type": "stream",
     "text": [
      "Soluçao mais rapida: id: 86535, target: Objectives: [1], Fitness: 1.0, solution: [0.16090017 0.41270968]\n",
      "ID: 76864, Fitness: 1.0, Solution: [0.49681214 0.66830162]\n"
     ]
    }
   ],
   "source": [
    "print(\"Soluçao mais rapida:\", solutions[times.index(min(times))])\n",
    "best = min(solutions, key=lambda s: s.target.fitness)\n",
    "print(f\"ID: {best.id}, Fitness: {best.target.fitness}, Solution: {best.solution}\")\n",
    "\n"
   ]
  }
 ],
 "metadata": {
  "kernelspec": {
   "display_name": ".venv",
   "language": "python",
   "name": "python3"
  },
  "language_info": {
   "codemirror_mode": {
    "name": "ipython",
    "version": 3
   },
   "file_extension": ".py",
   "mimetype": "text/x-python",
   "name": "python",
   "nbconvert_exporter": "python",
   "pygments_lexer": "ipython3",
   "version": "3.10.12"
  }
 },
 "nbformat": 4,
 "nbformat_minor": 5
}
