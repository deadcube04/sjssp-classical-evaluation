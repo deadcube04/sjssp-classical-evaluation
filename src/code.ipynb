{
 "cells": [
  {
   "cell_type": "markdown",
   "id": "8b067714",
   "metadata": {},
   "source": [
    "# JSSP comparação entre euristicas Classicas: codigo fonte"
   ]
  },
  {
   "cell_type": "markdown",
   "id": "0a1d9995",
   "metadata": {},
   "source": [
    "## importação de libs"
   ]
  },
  {
   "cell_type": "code",
   "execution_count": null,
   "id": "4d11e87d",
   "metadata": {},
   "outputs": [],
   "source": [
    "# %pip install mealpy\n",
    "# %pip install numpy\n",
    "%pip install -r ../requirements.txt\n"
   ]
  },
  {
   "cell_type": "code",
   "execution_count": 1,
   "id": "3e7daaf2",
   "metadata": {},
   "outputs": [],
   "source": [
    "import os\n",
    "import numpy as np\n",
    "import mealpy\n",
    "import importlib.util\n",
    "from classes.jssp import jssp\n"
   ]
  },
  {
   "cell_type": "markdown",
   "id": "1e54c8b5",
   "metadata": {},
   "source": [
    "## funções adicionais"
   ]
  },
  {
   "cell_type": "code",
   "execution_count": 2,
   "id": "f6025f02",
   "metadata": {},
   "outputs": [],
   "source": [
    "# importar casos de teste\n",
    "def import_tests_cases(nome_dict : str) -> dict:\n",
    "\n",
    "    caminho_absoluto = os.path.abspath(\"../tests/test1.py\")\n",
    "\n",
    "    spec = importlib.util.spec_from_file_location(\"modulo_temp\", caminho_absoluto)\n",
    "    \n",
    "    if spec is None or spec.loader is None:\n",
    "        raise ImportError(f\"Não foi possível carregar o módulo do arquivo: {caminho_absoluto}\")\n",
    "    \n",
    "    modulo = importlib.util.module_from_spec(spec)\n",
    "    spec.loader.exec_module(modulo)\n",
    "\n",
    "    return getattr(modulo, nome_dict)\n",
    "\n"
   ]
  },
  {
   "cell_type": "markdown",
   "id": "77101e58",
   "metadata": {},
   "source": [
    "## testes"
   ]
  },
  {
   "cell_type": "code",
   "execution_count": null,
   "id": "577ff04b",
   "metadata": {},
   "outputs": [
    {
     "name": "stdout",
     "output_type": "stream",
     "text": [
      "Job: job_1, Usable Machines: [1], Equipments Needed: [], Duration: 1\n",
      "Job: job_2, Usable Machines: [2], Equipments Needed: [], Duration: 1\n"
     ]
    }
   ],
   "source": [
    "# dados para os testes iniciais\n",
    "data = import_tests_cases(\"test\")\n",
    "jssp = jssp(data)\n",
    "\n"
   ]
  },
  {
   "cell_type": "markdown",
   "id": "566cbbc4",
   "metadata": {},
   "source": [
    "### Simulated annealing"
   ]
  },
  {
   "cell_type": "code",
   "execution_count": null,
   "id": "1fb06741",
   "metadata": {},
   "outputs": [],
   "source": []
  }
 ],
 "metadata": {
  "kernelspec": {
   "display_name": ".venv",
   "language": "python",
   "name": "python3"
  },
  "language_info": {
   "codemirror_mode": {
    "name": "ipython",
    "version": 3
   },
   "file_extension": ".py",
   "mimetype": "text/x-python",
   "name": "python",
   "nbconvert_exporter": "python",
   "pygments_lexer": "ipython3",
   "version": "3.10.12"
  }
 },
 "nbformat": 4,
 "nbformat_minor": 5
}
