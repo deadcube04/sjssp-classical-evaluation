{
 "cells": [
  {
   "cell_type": "markdown",
   "id": "8b067714",
   "metadata": {},
   "source": [
    "# JSSP comparação entre euristicas Classicas: codigo fonte"
   ]
  },
  {
   "cell_type": "markdown",
   "id": "0a1d9995",
   "metadata": {},
   "source": [
    "## importação de libs"
   ]
  },
  {
   "cell_type": "code",
   "execution_count": null,
   "id": "4d11e87d",
   "metadata": {},
   "outputs": [],
   "source": [
    "# %pip install mealpy\n",
    "# %pip install numpy\n",
    "%pip install -r ../requirements.txt\n"
   ]
  },
  {
   "cell_type": "code",
   "execution_count": null,
   "id": "3e7daaf2",
   "metadata": {},
   "outputs": [],
   "source": [
    "import os\n",
    "import numpy as np\n",
    "import mealpy\n",
    "import importlib.util\n",
    "from classes.jssp import jssp\n",
    "from classes.job import Jssp_job\n"
   ]
  },
  {
   "cell_type": "markdown",
   "id": "1e54c8b5",
   "metadata": {},
   "source": [
    "## funções adicionais"
   ]
  },
  {
   "cell_type": "code",
   "execution_count": null,
   "id": "f6025f02",
   "metadata": {},
   "outputs": [],
   "source": [
    "# importar casos de teste\n",
    "def import_tests_cases(nome_dict : str) -> dict:\n",
    "\n",
    "    caminho_absoluto = os.path.abspath(\"../tests/test1.py\")\n",
    "\n",
    "    spec = importlib.util.spec_from_file_location(\"modulo_temp\", caminho_absoluto)\n",
    "    \n",
    "    if spec is None or spec.loader is None:\n",
    "        raise ImportError(f\"Não foi possível carregar o módulo do arquivo: {caminho_absoluto}\")\n",
    "    \n",
    "    modulo = importlib.util.module_from_spec(spec)\n",
    "    spec.loader.exec_module(modulo)\n",
    "\n",
    "    return getattr(modulo, nome_dict)\n",
    "\n"
   ]
  },
  {
   "cell_type": "code",
   "execution_count": null,
   "id": "a82b596c",
   "metadata": {},
   "outputs": [
    {
     "name": "stdout",
     "output_type": "stream",
     "text": [
      "<class 'dict'>\n",
      "{'jobs': {'job_1': [([1], [], 1)], 'job_2': [([2], [], 1)]}, 'machine_downtimes': {}, 'timespan': 2}\n"
     ]
    }
   ],
   "source": [
    "# apenas testanto importação\n",
    "test = import_tests_cases(\"test\")\n",
    "print(type(test))\n",
    "print(test)"
   ]
  },
  {
   "cell_type": "markdown",
   "id": "77101e58",
   "metadata": {},
   "source": [
    "## testes"
   ]
  },
  {
   "cell_type": "markdown",
   "id": "566cbbc4",
   "metadata": {},
   "source": [
    "### Simulated annealing"
   ]
  },
  {
   "cell_type": "code",
   "execution_count": 9,
   "id": "577ff04b",
   "metadata": {},
   "outputs": [
    {
     "ename": "AttributeError",
     "evalue": "module 'modulo_temp' has no attribute 'data'",
     "output_type": "error",
     "traceback": [
      "\u001b[0;31m---------------------------------------------------------------------------\u001b[0m",
      "\u001b[0;31mAttributeError\u001b[0m                            Traceback (most recent call last)",
      "Cell \u001b[0;32mIn[9], line 1\u001b[0m\n\u001b[0;32m----> 1\u001b[0m data \u001b[38;5;241m=\u001b[39m \u001b[43mimport_tests_cases\u001b[49m\u001b[43m(\u001b[49m\u001b[38;5;124;43m\"\u001b[39;49m\u001b[38;5;124;43mtest1.py\u001b[39;49m\u001b[38;5;124;43m\"\u001b[39;49m\u001b[43m)\u001b[49m\n\u001b[1;32m      2\u001b[0m \u001b[38;5;28mprint\u001b[39m(\u001b[38;5;28mtype\u001b[39m(data))\n\u001b[1;32m      3\u001b[0m \u001b[38;5;28mprint\u001b[39m(data)\n",
      "Cell \u001b[0;32mIn[8], line 15\u001b[0m, in \u001b[0;36mimport_tests_cases\u001b[0;34m(path, name)\u001b[0m\n\u001b[1;32m     11\u001b[0m modulo \u001b[38;5;241m=\u001b[39m importlib\u001b[38;5;241m.\u001b[39mutil\u001b[38;5;241m.\u001b[39mmodule_from_spec(spec)\n\u001b[1;32m     12\u001b[0m spec\u001b[38;5;241m.\u001b[39mloader\u001b[38;5;241m.\u001b[39mexec_module(modulo)\n\u001b[0;32m---> 15\u001b[0m \u001b[38;5;28;01mreturn\u001b[39;00m \u001b[38;5;28;43mgetattr\u001b[39;49m\u001b[43m(\u001b[49m\u001b[43mmodulo\u001b[49m\u001b[43m,\u001b[49m\u001b[43m \u001b[49m\u001b[43mname\u001b[49m\u001b[43m)\u001b[49m\n",
      "\u001b[0;31mAttributeError\u001b[0m: module 'modulo_temp' has no attribute 'data'"
     ]
    }
   ],
   "source": [
    "data = import_tests_cases(\"test\")\n"
   ]
  }
 ],
 "metadata": {
  "kernelspec": {
   "display_name": ".venv",
   "language": "python",
   "name": "python3"
  },
  "language_info": {
   "codemirror_mode": {
    "name": "ipython",
    "version": 3
   },
   "file_extension": ".py",
   "mimetype": "text/x-python",
   "name": "python",
   "nbconvert_exporter": "python",
   "pygments_lexer": "ipython3",
   "version": "3.10.12"
  }
 },
 "nbformat": 4,
 "nbformat_minor": 5
}
